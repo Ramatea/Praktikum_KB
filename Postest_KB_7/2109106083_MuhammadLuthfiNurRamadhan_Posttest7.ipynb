{
 "cells": [
  {
   "cell_type": "markdown",
   "id": "0e9f694a-79ae-4d96-aec0-cf0f163cddce",
   "metadata": {},
   "source": [
    "Link Dataset"
   ]
  },
  {
   "cell_type": "markdown",
   "id": "7880eedb-1113-44ea-a0dc-ddbb21176974",
   "metadata": {},
   "source": [
    "https://www.kaggle.com/datasets/imsparsh/dockship-boat-type-classification"
   ]
  },
  {
   "cell_type": "markdown",
   "id": "af6b51f1-bb4c-4173-863f-205fe110d0b2",
   "metadata": {},
   "source": [
    "# Import Library Yang Dibutuhkan"
   ]
  },
  {
   "cell_type": "code",
   "execution_count": 1,
   "id": "067c8c56-0729-4e56-83e9-cc52959041b2",
   "metadata": {},
   "outputs": [],
   "source": [
    "import tensorflow as tf\n",
    "import matplotlib.pyplot as plt\n",
    "from tensorflow.keras import Sequential\n",
    "from tensorflow.keras.layers import Conv2D, MaxPooling2D, Flatten, Dense\n",
    "from keras.preprocessing.image import ImageDataGenerator\n",
    "import os"
   ]
  },
  {
   "cell_type": "markdown",
   "id": "e1d4318a-88c8-46fd-883a-344f5bf3a7be",
   "metadata": {},
   "source": [
    "memanggil direktori kereta"
   ]
  },
  {
   "cell_type": "code",
   "execution_count": 2,
   "id": "1fdf005c-24eb-4d06-9ff2-72f2fe45aa95",
   "metadata": {},
   "outputs": [],
   "source": [
    "Train_dir = \"Datakapal/Train\""
   ]
  },
  {
   "cell_type": "markdown",
   "id": "d9187ced-9899-495f-8f4c-bd6080d3d3d3",
   "metadata": {},
   "source": [
    "# Image Data Generator"
   ]
  },
  {
   "cell_type": "markdown",
   "id": "46312b0f-4433-40e9-afdd-0d432b23130b",
   "metadata": {},
   "source": [
    "membuat datagen untuk mendeklarasikan ImageDataGenerator membuat data flow from directory untuk train data"
   ]
  },
  {
   "cell_type": "code",
   "execution_count": 3,
   "id": "8b127767-57d8-41b2-abf7-98818f801498",
   "metadata": {},
   "outputs": [
    {
     "name": "stdout",
     "output_type": "stream",
     "text": [
      "Found 1162 images belonging to 9 classes.\n"
     ]
    }
   ],
   "source": [
    "train_datagen = ImageDataGenerator(\n",
    "    rescale = 1.0/255.0,\n",
    "    rotation_range = 0.45,\n",
    "    width_shift_range = 0.25,\n",
    "    height_shift_range= 0.25,\n",
    "    shear_range = 0.2,\n",
    "    zoom_range = 0.25,\n",
    "    horizontal_flip = True,\n",
    "    fill_mode = \"nearest\",\n",
    ")\n",
    "train_generator = train_datagen.flow_from_directory(\n",
    "    Train_dir,\n",
    "    target_size = (150,150),\n",
    "    batch_size = 32,\n",
    "    shuffle = True,\n",
    "    class_mode = \"categorical\"\n",
    ")"
   ]
  },
  {
   "cell_type": "markdown",
   "id": "053e4256-c1da-4485-af60-955e259631a0",
   "metadata": {},
   "source": [
    "membuat datagen untuk mendeklarasikan ImageDataGenerator dan membuat data flow from directory untuk Val data"
   ]
  },
  {
   "cell_type": "code",
   "execution_count": 4,
   "id": "9a65ecbb-e4ec-47c1-836c-8a4b49a3a0ea",
   "metadata": {},
   "outputs": [
    {
     "name": "stdout",
     "output_type": "stream",
     "text": [
      "Found 0 images belonging to 9 classes.\n"
     ]
    }
   ],
   "source": [
    "val_datagen = ImageDataGenerator(\n",
    "    rescale=1.0/255.0\n",
    ")\n",
    "\n",
    "val_generator = train_datagen.flow_from_directory(\n",
    "    Train_dir,\n",
    "    target_size = (150,150),\n",
    "    batch_size = 32,\n",
    "    class_mode = 'categorical',\n",
    "    subset='validation'\n",
    ")"
   ]
  },
  {
   "cell_type": "markdown",
   "id": "8483e59c-6db0-4506-9551-c1a791d794f7",
   "metadata": {},
   "source": [
    "## Membuat model Sequential"
   ]
  },
  {
   "cell_type": "markdown",
   "id": "b94906c8-bcc0-47f5-9676-359aa8a5a471",
   "metadata": {},
   "source": [
    "Model Sequential dengan Convolutional Layer dan Compile model menggunakan optimizer Adam, loss function\r\n",
    "Categorical_crossentropy"
   ]
  },
  {
   "cell_type": "code",
   "execution_count": 5,
   "id": "2d950b5f-4faa-4cfb-b7f3-0257a53e02eb",
   "metadata": {},
   "outputs": [],
   "source": [
    "model = tf.keras.Sequential([\n",
    "    Conv2D(16,3,activation = \"relu\",input_shape=[150,150,3]),\n",
    "    MaxPooling2D(2,2),\n",
    "    Conv2D(32 , 3, activation = \"relu\"),\n",
    "    MaxPooling2D(2,2),\n",
    "    Conv2D(64 , 3, activation = \"relu\"),\n",
    "    MaxPooling2D(2,2),\n",
    "    Conv2D(128 , 3, activation = \"relu\"),\n",
    "    MaxPooling2D(2,2),\n",
    "    Flatten(),\n",
    "    Dense(256, activation = \"relu\"),\n",
    "    Dense(9, activation = \"softmax\")\n",
    "])\n",
    "\n",
    "model.compile(\n",
    "    optimizer = \"Adam\",\n",
    "    loss = \"categorical_crossentropy\",\n",
    "    metrics = [\"acc\"]\n",
    ")"
   ]
  },
  {
   "cell_type": "markdown",
   "id": "047f0525-8828-4845-ae08-df8c36ef3e17",
   "metadata": {},
   "source": [
    "Latih model dengan masukan data generator sebagai inputan data dan atur\r\n",
    "epoch sampai510 kali"
   ]
  },
  {
   "cell_type": "code",
   "execution_count": 6,
   "id": "8dce055e-d356-4ecb-8620-77af292fa2bd",
   "metadata": {},
   "outputs": [
    {
     "name": "stdout",
     "output_type": "stream",
     "text": [
      "Epoch 1/50\n",
      "37/37 [==============================] - 38s 985ms/step - loss: 1.8906 - acc: 0.2900\n",
      "Epoch 2/50\n",
      "37/37 [==============================] - 39s 1s/step - loss: 1.7780 - acc: 0.3365\n",
      "Epoch 3/50\n",
      "37/37 [==============================] - 36s 977ms/step - loss: 1.7330 - acc: 0.3571\n",
      "Epoch 4/50\n",
      "37/37 [==============================] - 38s 1s/step - loss: 1.6597 - acc: 0.3873\n",
      "Epoch 5/50\n",
      "37/37 [==============================] - 36s 979ms/step - loss: 1.6379 - acc: 0.4010\n",
      "Epoch 6/50\n",
      "37/37 [==============================] - 37s 1s/step - loss: 1.5841 - acc: 0.4269\n",
      "Epoch 7/50\n",
      "37/37 [==============================] - 43s 1s/step - loss: 1.5764 - acc: 0.4441\n",
      "Epoch 8/50\n",
      "37/37 [==============================] - 40s 1s/step - loss: 1.5711 - acc: 0.4380\n",
      "Epoch 9/50\n",
      "37/37 [==============================] - 36s 977ms/step - loss: 1.5035 - acc: 0.4776\n",
      "Epoch 10/50\n",
      "37/37 [==============================] - 39s 1s/step - loss: 1.4338 - acc: 0.5146\n",
      "Epoch 11/50\n",
      "37/37 [==============================] - 41s 1s/step - loss: 1.4003 - acc: 0.5181\n",
      "Epoch 12/50\n",
      "37/37 [==============================] - 40s 1s/step - loss: 1.4078 - acc: 0.5172\n",
      "Epoch 13/50\n",
      "37/37 [==============================] - 38s 1s/step - loss: 1.3271 - acc: 0.5499\n",
      "Epoch 14/50\n",
      "37/37 [==============================] - 36s 964ms/step - loss: 1.3263 - acc: 0.5387\n",
      "Epoch 15/50\n",
      "37/37 [==============================] - 37s 1s/step - loss: 1.2351 - acc: 0.5783\n",
      "Epoch 16/50\n",
      "37/37 [==============================] - 39s 1s/step - loss: 1.2153 - acc: 0.5843\n",
      "Epoch 17/50\n",
      "37/37 [==============================] - 38s 1s/step - loss: 1.2104 - acc: 0.5886\n",
      "Epoch 18/50\n",
      "37/37 [==============================] - 39s 1s/step - loss: 1.2296 - acc: 0.5818\n",
      "Epoch 19/50\n",
      "37/37 [==============================] - 38s 1s/step - loss: 1.1604 - acc: 0.6067\n",
      "Epoch 20/50\n",
      "37/37 [==============================] - 38s 1s/step - loss: 1.1655 - acc: 0.6162\n",
      "Epoch 21/50\n",
      "37/37 [==============================] - 38s 1s/step - loss: 1.1365 - acc: 0.6256\n",
      "Epoch 22/50\n",
      "37/37 [==============================] - 36s 977ms/step - loss: 1.0958 - acc: 0.6437\n",
      "Epoch 23/50\n",
      "37/37 [==============================] - 38s 1s/step - loss: 1.1323 - acc: 0.6317\n",
      "Epoch 24/50\n",
      "37/37 [==============================] - 39s 1s/step - loss: 1.0794 - acc: 0.6515\n",
      "Epoch 25/50\n",
      "37/37 [==============================] - 37s 999ms/step - loss: 1.1085 - acc: 0.6343\n",
      "Epoch 26/50\n",
      "37/37 [==============================] - 36s 968ms/step - loss: 1.0662 - acc: 0.6480\n",
      "Epoch 27/50\n",
      "37/37 [==============================] - 42s 1s/step - loss: 1.0146 - acc: 0.6592\n",
      "Epoch 28/50\n",
      "37/37 [==============================] - 43s 1s/step - loss: 0.9897 - acc: 0.6695\n",
      "Epoch 29/50\n",
      "37/37 [==============================] - 43s 1s/step - loss: 1.0312 - acc: 0.6489\n",
      "Epoch 30/50\n",
      "37/37 [==============================] - 42s 1s/step - loss: 1.0408 - acc: 0.6429\n",
      "Epoch 31/50\n",
      "37/37 [==============================] - 44s 1s/step - loss: 1.0091 - acc: 0.6652\n",
      "Epoch 32/50\n",
      "37/37 [==============================] - 43s 1s/step - loss: 0.9701 - acc: 0.6790\n",
      "Epoch 33/50\n",
      "37/37 [==============================] - 44s 1s/step - loss: 0.9541 - acc: 0.6833\n",
      "Epoch 34/50\n",
      "37/37 [==============================] - 43s 1s/step - loss: 0.9312 - acc: 0.6859\n",
      "Epoch 35/50\n",
      "37/37 [==============================] - 44s 1s/step - loss: 0.9577 - acc: 0.6704\n",
      "Epoch 36/50\n",
      "37/37 [==============================] - 44s 1s/step - loss: 0.9273 - acc: 0.6954\n",
      "Epoch 37/50\n",
      "37/37 [==============================] - 43s 1s/step - loss: 0.8908 - acc: 0.6893\n",
      "Epoch 38/50\n",
      "37/37 [==============================] - 43s 1s/step - loss: 0.9095 - acc: 0.7083\n",
      "Epoch 39/50\n",
      "37/37 [==============================] - 43s 1s/step - loss: 0.8780 - acc: 0.7108\n",
      "Epoch 40/50\n",
      "37/37 [==============================] - 45s 1s/step - loss: 0.8679 - acc: 0.7031\n",
      "Epoch 41/50\n",
      "37/37 [==============================] - 42s 1s/step - loss: 0.8358 - acc: 0.7203\n",
      "Epoch 42/50\n",
      "37/37 [==============================] - 42s 1s/step - loss: 0.8774 - acc: 0.7057\n",
      "Epoch 43/50\n",
      "37/37 [==============================] - 42s 1s/step - loss: 0.8374 - acc: 0.7108\n",
      "Epoch 44/50\n",
      "37/37 [==============================] - 41s 1s/step - loss: 0.7928 - acc: 0.7341\n",
      "Epoch 45/50\n",
      "37/37 [==============================] - 42s 1s/step - loss: 0.7688 - acc: 0.7487\n",
      "Epoch 46/50\n",
      "37/37 [==============================] - 48s 1s/step - loss: 0.7364 - acc: 0.7478\n",
      "Epoch 47/50\n",
      "37/37 [==============================] - 48s 1s/step - loss: 0.7885 - acc: 0.7349\n",
      "Epoch 48/50\n",
      "37/37 [==============================] - 50s 1s/step - loss: 0.8221 - acc: 0.7263\n",
      "Epoch 49/50\n",
      "37/37 [==============================] - 46s 1s/step - loss: 0.7364 - acc: 0.7599\n",
      "Epoch 50/50\n",
      "37/37 [==============================] - 47s 1s/step - loss: 0.6763 - acc: 0.7728\n"
     ]
    }
   ],
   "source": [
    "hasil = model.fit(train_generator,validation_data=val_generator,epochs=50,verbose=1)"
   ]
  },
  {
   "cell_type": "markdown",
   "id": "5a8821c0-8092-4f40-8d4e-53dea5cbbb89",
   "metadata": {},
   "source": [
    "melakukan evaluasi pada model"
   ]
  },
  {
   "cell_type": "code",
   "execution_count": 7,
   "id": "2d848d99-3f6a-4e3c-ab6c-4229d8fd9c83",
   "metadata": {},
   "outputs": [
    {
     "name": "stdout",
     "output_type": "stream",
     "text": [
      "37/37 [==============================] - 33s 839ms/step - loss: 0.6519 - acc: 0.7788\n"
     ]
    },
    {
     "data": {
      "text/plain": [
       "[0.6518864631652832, 0.7788295745849609]"
      ]
     },
     "execution_count": 7,
     "metadata": {},
     "output_type": "execute_result"
    }
   ],
   "source": [
    "model.evaluate(train_generator)"
   ]
  },
  {
   "cell_type": "markdown",
   "id": "b0e6045a-2ac6-4db0-88c8-620cef982cef",
   "metadata": {},
   "source": [
    "menyimpan history akurasi dan loss"
   ]
  },
  {
   "cell_type": "code",
   "execution_count": 14,
   "id": "e3783abf-c5f3-4ce9-8786-9ad5912baf36",
   "metadata": {},
   "outputs": [],
   "source": [
    "accuracy = hasil.history['acc']"
   ]
  },
  {
   "cell_type": "code",
   "execution_count": 15,
   "id": "9b7d8f77-5bae-43c2-8ff6-e04020f71724",
   "metadata": {},
   "outputs": [],
   "source": [
    "loss = hasil.history['loss']"
   ]
  },
  {
   "cell_type": "markdown",
   "id": "f40e2e61-11ba-4f56-bf5e-60d2665cfd6e",
   "metadata": {},
   "source": [
    "Menampilkan grafik dari accuracy dan loss dengan membandingkan jumlah epochs yaitu 50 epochs"
   ]
  },
  {
   "cell_type": "code",
   "execution_count": 16,
   "id": "1bae12a6-7236-4654-a260-136af2f770e2",
   "metadata": {},
   "outputs": [
    {
     "data": {
      "image/png": "[encoded data removed]",
      "text/plain": [
       "<Figure size 1200x500 with 1 Axes>"
      ]
     },
     "metadata": {},
     "output_type": "display_data"
    }
   ],
   "source": [
    "plt.figure(figsize=(12, 5))\n",
    "plt.plot(range(1, len(accuracy) + 1), accuracy, label='Accuracy', color='blue')\n",
    "plt.plot(range(1, len(loss) + 1), loss, label='Loss',  color='orange')\n",
    "plt.title('Accuracy and Loss')\n",
    "plt.xlabel('Epochs')\n",
    "plt.ylabel('Loss')\n",
    "plt.legend()\n",
    "plt.show()"
   ]
  }
 ],
 "metadata": {
  "kernelspec": {
   "display_name": "Rama-083",
   "language": "python",
   "name": "rama-083"
  },
  "language_info": {
   "codemirror_mode": {
    "name": "ipython",
    "version": 3
   },
   "file_extension": ".py",
   "mimetype": "text/x-python",
   "name": "python",
   "nbconvert_exporter": "python",
   "pygments_lexer": "ipython3",
   "version": "3.10.7"
  }
 },
 "nbformat": 4,
 "nbformat_minor": 5
}
