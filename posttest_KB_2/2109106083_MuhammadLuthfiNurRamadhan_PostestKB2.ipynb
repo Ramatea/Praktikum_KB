{
 "cells": [
  {
   "cell_type": "markdown",
   "id": "9fada519-d843-4265-a851-0f2c8a076f21",
   "metadata": {},
   "source": [
    "# mengimport dataset dan memanggil dataset dengan memasukan read dataset kedalam var df"
   ]
  },
  {
   "cell_type": "code",
   "execution_count": 29,
   "id": "f8b9bce2-1818-4aed-889a-ce812e7c62a2",
   "metadata": {},
   "outputs": [],
   "source": [
    "import pandas as pd\n",
    "df = pd.read_csv('football_transfers_2021.csv')"
   ]
  },
  {
   "cell_type": "markdown",
   "id": "16d2d07c-4975-40e5-9142-4058886659b0",
   "metadata": {},
   "source": [
    "# Tampilkan rata-rata, standar deviasi, nilai minimum, nilai maksimum, Q1, Q2, dan Q3 dari attribute bertipe angka. dengan fungsi describe()"
   ]
  },
  {
   "cell_type": "code",
   "execution_count": 21,
   "id": "cdd708c7-2ffa-4284-9953-a588c92f454d",
   "metadata": {},
   "outputs": [
    {
     "data": {
      "text/html": [
       "<div>\n",
       "<style scoped>\n",
       "    .dataframe tbody tr th:only-of-type {\n",
       "        vertical-align: middle;\n",
       "    }\n",
       "\n",
       "    .dataframe tbody tr th {\n",
       "        vertical-align: top;\n",
       "    }\n",
       "\n",
       "    .dataframe thead th {\n",
       "        text-align: right;\n",
       "    }\n",
       "</style>\n",
       "<table border=\"1\" class=\"dataframe\">\n",
       "  <thead>\n",
       "    <tr style=\"text-align: right;\">\n",
       "      <th></th>\n",
       "      <th>age</th>\n",
       "    </tr>\n",
       "  </thead>\n",
       "  <tbody>\n",
       "    <tr>\n",
       "      <th>count</th>\n",
       "      <td>65489.000000</td>\n",
       "    </tr>\n",
       "    <tr>\n",
       "      <th>mean</th>\n",
       "      <td>25.162974</td>\n",
       "    </tr>\n",
       "    <tr>\n",
       "      <th>std</th>\n",
       "      <td>4.733223</td>\n",
       "    </tr>\n",
       "    <tr>\n",
       "      <th>min</th>\n",
       "      <td>15.000000</td>\n",
       "    </tr>\n",
       "    <tr>\n",
       "      <th>25%</th>\n",
       "      <td>21.000000</td>\n",
       "    </tr>\n",
       "    <tr>\n",
       "      <th>50%</th>\n",
       "      <td>24.000000</td>\n",
       "    </tr>\n",
       "    <tr>\n",
       "      <th>75%</th>\n",
       "      <td>28.000000</td>\n",
       "    </tr>\n",
       "    <tr>\n",
       "      <th>max</th>\n",
       "      <td>47.000000</td>\n",
       "    </tr>\n",
       "  </tbody>\n",
       "</table>\n",
       "</div>"
      ],
      "text/plain": [
       "                age\n",
       "count  65489.000000\n",
       "mean      25.162974\n",
       "std        4.733223\n",
       "min       15.000000\n",
       "25%       21.000000\n",
       "50%       24.000000\n",
       "75%       28.000000\n",
       "max       47.000000"
      ]
     },
     "execution_count": 21,
     "metadata": {},
     "output_type": "execute_result"
    }
   ],
   "source": [
    "df.describe()"
   ]
  },
  {
   "cell_type": "markdown",
   "id": "0ecc0703-e624-42e0-8775-53a2a5e0edba",
   "metadata": {},
   "source": [
    "# Tampilkan 10 record pertama dari dataset dengan attribute bertipe angka menggunakan fungsi head dan memanggil kolom age karena hanya kolom age yang beratribut angka kemudian memasukan parameter 10 pada fungsi head agar dapat menampilkan 10 record pertama pada dataset"
   ]
  },
  {
   "cell_type": "code",
   "execution_count": 22,
   "id": "7d7fd234-7637-4e9f-8263-89337ea06d5d",
   "metadata": {},
   "outputs": [
    {
     "data": {
      "text/plain": [
       "0    20.0\n",
       "1    18.0\n",
       "2    20.0\n",
       "3    23.0\n",
       "4    27.0\n",
       "5    27.0\n",
       "6    26.0\n",
       "7    25.0\n",
       "8    25.0\n",
       "9    19.0\n",
       "Name: age, dtype: float64"
      ]
     },
     "execution_count": 22,
     "metadata": {},
     "output_type": "execute_result"
    }
   ],
   "source": [
    "df['age'].head(10)"
   ]
  },
  {
   "cell_type": "markdown",
   "id": "3a56ac14-ffea-4a4c-b681-d65a36134937",
   "metadata": {},
   "source": [
    "# Tampilkan informasi jumlah record, jumlah attribute, nama attribute, jumlah attribute dengan tipe angka. Masukkan informasi tersebut dalam dictionary dengan key sesuai nama informasinya. Tampilkan isi dari dictionary tersebut{key}: {value}\")"
   ]
  },
  {
   "cell_type": "markdown",
   "id": "b6147477-d2b6-4dcb-877a-c409ab7a1e63",
   "metadata": {},
   "source": [
    "- len berfungsi untuk mengetahui panjang data\n",
    "- shape untuk mengetahui jumlah atributte yang ada pada dataset\n",
    "- select_dtypes berfungsi untuk menampilkan sesuai dengan tipe data yang dipilih disini yang dipilih adalah int dan float"
   ]
  },
  {
   "cell_type": "code",
   "execution_count": 28,
   "id": "c9eead34-c327-4b0c-b260-d45aa6057ed0",
   "metadata": {},
   "outputs": [
    {
     "name": "stdout",
     "output_type": "stream",
     "text": [
      "Jumlah Record: 65489\n",
      "Jumlah Attribute: 11\n",
      "Nama Attribute: ['player_name', 'position', 'age', 'team_origin', 'country_origin', 'league_origin', 'team_dest', 'country_dest', 'league_dest', 'transfer_fee', 'date']\n",
      "Jumlah Attribute dengan Tipe Angka: 1\n"
     ]
    }
   ],
   "source": [
    "jumlah_record = len(df)\n",
    "jumlah_atribut = df.shape[1]\n",
    "nama_atribut = list(df.columns)\n",
    "\n",
    "atribut_angka = df.select_dtypes(include=['int', 'float'])\n",
    "jumlah_atribut_angka = len(atribut_angka.columns)\n",
    "\n",
    "\n",
    "informasi_dict = {\n",
    "    'Jumlah Record': jumlah_record,\n",
    "    'Jumlah Attribute': jumlah_atribut,\n",
    "    'Nama Attribute': nama_atribut,\n",
    "    'Jumlah Attribute dengan Tipe Angka': jumlah_atribut_angka\n",
    "}\n",
    "\n",
    "for key, value in informasi_dict.items():\n",
    "    print(f\"{key}: {value}\")"
   ]
  },
  {
   "cell_type": "markdown",
   "id": "dca09fbf-4b15-437f-9697-13d124bc00e7",
   "metadata": {},
   "source": [
    "# Tampilkan nilai dataset pada baris dimulai dengan 3 digit NIM akhir hingga data terakhir dan kolom ke 4 hingga kolom terakhir menggunakan ke 2 metode slice."
   ]
  },
  {
   "cell_type": "markdown",
   "id": "ffd89e56-10c0-47cc-ab90-6a4824561b64",
   "metadata": {},
   "source": [
    "1. Menggunakan metode loc"
   ]
  },
  {
   "cell_type": "code",
   "execution_count": 50,
   "id": "bfce539c-ffab-4a0b-9913-8beaa26f453f",
   "metadata": {},
   "outputs": [
    {
     "data": {
      "text/html": [
       "<div>\n",
       "<style scoped>\n",
       "    .dataframe tbody tr th:only-of-type {\n",
       "        vertical-align: middle;\n",
       "    }\n",
       "\n",
       "    .dataframe tbody tr th {\n",
       "        vertical-align: top;\n",
       "    }\n",
       "\n",
       "    .dataframe thead th {\n",
       "        text-align: right;\n",
       "    }\n",
       "</style>\n",
       "<table border=\"1\" class=\"dataframe\">\n",
       "  <thead>\n",
       "    <tr style=\"text-align: right;\">\n",
       "      <th></th>\n",
       "      <th>team_origin</th>\n",
       "      <th>country_origin</th>\n",
       "      <th>league_origin</th>\n",
       "      <th>team_dest</th>\n",
       "      <th>country_dest</th>\n",
       "      <th>league_dest</th>\n",
       "      <th>transfer_fee</th>\n",
       "      <th>date</th>\n",
       "    </tr>\n",
       "  </thead>\n",
       "  <tbody>\n",
       "    <tr>\n",
       "      <th>83</th>\n",
       "      <td>FC Shevardeni</td>\n",
       "      <td>Georgia</td>\n",
       "      <td>Georgia</td>\n",
       "      <td>Sioni Bolnisi</td>\n",
       "      <td>Georgia</td>\n",
       "      <td>Georgia</td>\n",
       "      <td>free transfer</td>\n",
       "      <td>2021-01-01</td>\n",
       "    </tr>\n",
       "    <tr>\n",
       "      <th>84</th>\n",
       "      <td>CA Mannucci</td>\n",
       "      <td>Peru</td>\n",
       "      <td>Liga 1 Clausura</td>\n",
       "      <td>Cusco FC</td>\n",
       "      <td>Peru</td>\n",
       "      <td>Liga 1 Clausura</td>\n",
       "      <td>free transfer</td>\n",
       "      <td>2021-01-01</td>\n",
       "    </tr>\n",
       "    <tr>\n",
       "      <th>85</th>\n",
       "      <td>Septemvri Sofia</td>\n",
       "      <td>Bulgaria</td>\n",
       "      <td>Vtora Liga</td>\n",
       "      <td>Lok. Sofia</td>\n",
       "      <td>Bulgaria</td>\n",
       "      <td>Vtora Liga</td>\n",
       "      <td>free transfer</td>\n",
       "      <td>2021-01-01</td>\n",
       "    </tr>\n",
       "    <tr>\n",
       "      <th>86</th>\n",
       "      <td>Dynamo Brest</td>\n",
       "      <td>Belarus</td>\n",
       "      <td>Vysheyshaya Liga</td>\n",
       "      <td>Dinamo Minsk</td>\n",
       "      <td>Belarus</td>\n",
       "      <td>Vysheyshaya Liga</td>\n",
       "      <td>free transfer</td>\n",
       "      <td>2021-01-01</td>\n",
       "    </tr>\n",
       "    <tr>\n",
       "      <th>87</th>\n",
       "      <td>Wigan</td>\n",
       "      <td>England</td>\n",
       "      <td>League One</td>\n",
       "      <td>APOEL Nicosia</td>\n",
       "      <td>Cyprus</td>\n",
       "      <td>Protathlima Cyta</td>\n",
       "      <td>free transfer</td>\n",
       "      <td>2021-01-01</td>\n",
       "    </tr>\n",
       "    <tr>\n",
       "      <th>...</th>\n",
       "      <td>...</td>\n",
       "      <td>...</td>\n",
       "      <td>...</td>\n",
       "      <td>...</td>\n",
       "      <td>...</td>\n",
       "      <td>...</td>\n",
       "      <td>...</td>\n",
       "      <td>...</td>\n",
       "    </tr>\n",
       "    <tr>\n",
       "      <th>65484</th>\n",
       "      <td>San Diego State</td>\n",
       "      <td>United States</td>\n",
       "      <td>United States</td>\n",
       "      <td>Retired</td>\n",
       "      <td>NaN</td>\n",
       "      <td>NaN</td>\n",
       "      <td>-</td>\n",
       "      <td>2021-12-31</td>\n",
       "    </tr>\n",
       "    <tr>\n",
       "      <th>65485</th>\n",
       "      <td>1922 Konya</td>\n",
       "      <td>Turkey</td>\n",
       "      <td>2.Lig Beyaz</td>\n",
       "      <td>Without Club</td>\n",
       "      <td>NaN</td>\n",
       "      <td>NaN</td>\n",
       "      <td>-</td>\n",
       "      <td>2021-12-31</td>\n",
       "    </tr>\n",
       "    <tr>\n",
       "      <th>65486</th>\n",
       "      <td>Coimbra</td>\n",
       "      <td>Portugal</td>\n",
       "      <td>Liga Sabseg</td>\n",
       "      <td>Without Club</td>\n",
       "      <td>NaN</td>\n",
       "      <td>NaN</td>\n",
       "      <td>-</td>\n",
       "      <td>2021-12-31</td>\n",
       "    </tr>\n",
       "    <tr>\n",
       "      <th>65487</th>\n",
       "      <td>Coritiba FC B</td>\n",
       "      <td>Brazil</td>\n",
       "      <td>Brazil</td>\n",
       "      <td>Coritiba FC</td>\n",
       "      <td>Brazil</td>\n",
       "      <td>Série B</td>\n",
       "      <td>-</td>\n",
       "      <td>2021-12-31</td>\n",
       "    </tr>\n",
       "    <tr>\n",
       "      <th>65488</th>\n",
       "      <td>Without Club</td>\n",
       "      <td>NaN</td>\n",
       "      <td>NaN</td>\n",
       "      <td>Adriese 1906</td>\n",
       "      <td>Italy</td>\n",
       "      <td>Serie D - C</td>\n",
       "      <td>-</td>\n",
       "      <td>2021-12-31</td>\n",
       "    </tr>\n",
       "  </tbody>\n",
       "</table>\n",
       "<p>65406 rows × 8 columns</p>\n",
       "</div>"
      ],
      "text/plain": [
       "           team_origin country_origin     league_origin      team_dest  \\\n",
       "83       FC Shevardeni        Georgia           Georgia  Sioni Bolnisi   \n",
       "84         CA Mannucci           Peru   Liga 1 Clausura       Cusco FC   \n",
       "85     Septemvri Sofia       Bulgaria        Vtora Liga     Lok. Sofia   \n",
       "86        Dynamo Brest        Belarus  Vysheyshaya Liga   Dinamo Minsk   \n",
       "87               Wigan        England        League One  APOEL Nicosia   \n",
       "...                ...            ...               ...            ...   \n",
       "65484  San Diego State  United States     United States        Retired   \n",
       "65485       1922 Konya         Turkey       2.Lig Beyaz   Without Club   \n",
       "65486          Coimbra       Portugal       Liga Sabseg   Without Club   \n",
       "65487    Coritiba FC B         Brazil            Brazil    Coritiba FC   \n",
       "65488     Without Club            NaN               NaN   Adriese 1906   \n",
       "\n",
       "      country_dest       league_dest   transfer_fee        date  \n",
       "83         Georgia           Georgia  free transfer  2021-01-01  \n",
       "84            Peru   Liga 1 Clausura  free transfer  2021-01-01  \n",
       "85        Bulgaria        Vtora Liga  free transfer  2021-01-01  \n",
       "86         Belarus  Vysheyshaya Liga  free transfer  2021-01-01  \n",
       "87          Cyprus  Protathlima Cyta  free transfer  2021-01-01  \n",
       "...            ...               ...            ...         ...  \n",
       "65484          NaN               NaN              -  2021-12-31  \n",
       "65485          NaN               NaN              -  2021-12-31  \n",
       "65486          NaN               NaN              -  2021-12-31  \n",
       "65487       Brazil           Série B              -  2021-12-31  \n",
       "65488        Italy       Serie D - C              -  2021-12-31  \n",
       "\n",
       "[65406 rows x 8 columns]"
      ]
     },
     "execution_count": 50,
     "metadata": {},
     "output_type": "execute_result"
    }
   ],
   "source": [
    "df.loc[83:,['team_origin','country_origin','league_origin','team_dest','country_dest','league_dest','transfer_fee','date']]"
   ]
  },
  {
   "cell_type": "markdown",
   "id": "7b4aaa31-90c6-4958-88df-50511032a392",
   "metadata": {},
   "source": [
    "2. Menggunakan iloc"
   ]
  },
  {
   "cell_type": "code",
   "execution_count": 35,
   "id": "59078131-71ec-463c-95b0-4f5b329faeeb",
   "metadata": {},
   "outputs": [
    {
     "data": {
      "text/html": [
       "<div>\n",
       "<style scoped>\n",
       "    .dataframe tbody tr th:only-of-type {\n",
       "        vertical-align: middle;\n",
       "    }\n",
       "\n",
       "    .dataframe tbody tr th {\n",
       "        vertical-align: top;\n",
       "    }\n",
       "\n",
       "    .dataframe thead th {\n",
       "        text-align: right;\n",
       "    }\n",
       "</style>\n",
       "<table border=\"1\" class=\"dataframe\">\n",
       "  <thead>\n",
       "    <tr style=\"text-align: right;\">\n",
       "      <th></th>\n",
       "      <th>team_origin</th>\n",
       "      <th>country_origin</th>\n",
       "      <th>league_origin</th>\n",
       "      <th>team_dest</th>\n",
       "      <th>country_dest</th>\n",
       "      <th>league_dest</th>\n",
       "      <th>transfer_fee</th>\n",
       "      <th>date</th>\n",
       "    </tr>\n",
       "  </thead>\n",
       "  <tbody>\n",
       "    <tr>\n",
       "      <th>83</th>\n",
       "      <td>FC Shevardeni</td>\n",
       "      <td>Georgia</td>\n",
       "      <td>Georgia</td>\n",
       "      <td>Sioni Bolnisi</td>\n",
       "      <td>Georgia</td>\n",
       "      <td>Georgia</td>\n",
       "      <td>free transfer</td>\n",
       "      <td>2021-01-01</td>\n",
       "    </tr>\n",
       "    <tr>\n",
       "      <th>84</th>\n",
       "      <td>CA Mannucci</td>\n",
       "      <td>Peru</td>\n",
       "      <td>Liga 1 Clausura</td>\n",
       "      <td>Cusco FC</td>\n",
       "      <td>Peru</td>\n",
       "      <td>Liga 1 Clausura</td>\n",
       "      <td>free transfer</td>\n",
       "      <td>2021-01-01</td>\n",
       "    </tr>\n",
       "    <tr>\n",
       "      <th>85</th>\n",
       "      <td>Septemvri Sofia</td>\n",
       "      <td>Bulgaria</td>\n",
       "      <td>Vtora Liga</td>\n",
       "      <td>Lok. Sofia</td>\n",
       "      <td>Bulgaria</td>\n",
       "      <td>Vtora Liga</td>\n",
       "      <td>free transfer</td>\n",
       "      <td>2021-01-01</td>\n",
       "    </tr>\n",
       "    <tr>\n",
       "      <th>86</th>\n",
       "      <td>Dynamo Brest</td>\n",
       "      <td>Belarus</td>\n",
       "      <td>Vysheyshaya Liga</td>\n",
       "      <td>Dinamo Minsk</td>\n",
       "      <td>Belarus</td>\n",
       "      <td>Vysheyshaya Liga</td>\n",
       "      <td>free transfer</td>\n",
       "      <td>2021-01-01</td>\n",
       "    </tr>\n",
       "    <tr>\n",
       "      <th>87</th>\n",
       "      <td>Wigan</td>\n",
       "      <td>England</td>\n",
       "      <td>League One</td>\n",
       "      <td>APOEL Nicosia</td>\n",
       "      <td>Cyprus</td>\n",
       "      <td>Protathlima Cyta</td>\n",
       "      <td>free transfer</td>\n",
       "      <td>2021-01-01</td>\n",
       "    </tr>\n",
       "    <tr>\n",
       "      <th>...</th>\n",
       "      <td>...</td>\n",
       "      <td>...</td>\n",
       "      <td>...</td>\n",
       "      <td>...</td>\n",
       "      <td>...</td>\n",
       "      <td>...</td>\n",
       "      <td>...</td>\n",
       "      <td>...</td>\n",
       "    </tr>\n",
       "    <tr>\n",
       "      <th>65484</th>\n",
       "      <td>San Diego State</td>\n",
       "      <td>United States</td>\n",
       "      <td>United States</td>\n",
       "      <td>Retired</td>\n",
       "      <td>NaN</td>\n",
       "      <td>NaN</td>\n",
       "      <td>-</td>\n",
       "      <td>2021-12-31</td>\n",
       "    </tr>\n",
       "    <tr>\n",
       "      <th>65485</th>\n",
       "      <td>1922 Konya</td>\n",
       "      <td>Turkey</td>\n",
       "      <td>2.Lig Beyaz</td>\n",
       "      <td>Without Club</td>\n",
       "      <td>NaN</td>\n",
       "      <td>NaN</td>\n",
       "      <td>-</td>\n",
       "      <td>2021-12-31</td>\n",
       "    </tr>\n",
       "    <tr>\n",
       "      <th>65486</th>\n",
       "      <td>Coimbra</td>\n",
       "      <td>Portugal</td>\n",
       "      <td>Liga Sabseg</td>\n",
       "      <td>Without Club</td>\n",
       "      <td>NaN</td>\n",
       "      <td>NaN</td>\n",
       "      <td>-</td>\n",
       "      <td>2021-12-31</td>\n",
       "    </tr>\n",
       "    <tr>\n",
       "      <th>65487</th>\n",
       "      <td>Coritiba FC B</td>\n",
       "      <td>Brazil</td>\n",
       "      <td>Brazil</td>\n",
       "      <td>Coritiba FC</td>\n",
       "      <td>Brazil</td>\n",
       "      <td>Série B</td>\n",
       "      <td>-</td>\n",
       "      <td>2021-12-31</td>\n",
       "    </tr>\n",
       "    <tr>\n",
       "      <th>65488</th>\n",
       "      <td>Without Club</td>\n",
       "      <td>NaN</td>\n",
       "      <td>NaN</td>\n",
       "      <td>Adriese 1906</td>\n",
       "      <td>Italy</td>\n",
       "      <td>Serie D - C</td>\n",
       "      <td>-</td>\n",
       "      <td>2021-12-31</td>\n",
       "    </tr>\n",
       "  </tbody>\n",
       "</table>\n",
       "<p>65406 rows × 8 columns</p>\n",
       "</div>"
      ],
      "text/plain": [
       "           team_origin country_origin     league_origin      team_dest  \\\n",
       "83       FC Shevardeni        Georgia           Georgia  Sioni Bolnisi   \n",
       "84         CA Mannucci           Peru   Liga 1 Clausura       Cusco FC   \n",
       "85     Septemvri Sofia       Bulgaria        Vtora Liga     Lok. Sofia   \n",
       "86        Dynamo Brest        Belarus  Vysheyshaya Liga   Dinamo Minsk   \n",
       "87               Wigan        England        League One  APOEL Nicosia   \n",
       "...                ...            ...               ...            ...   \n",
       "65484  San Diego State  United States     United States        Retired   \n",
       "65485       1922 Konya         Turkey       2.Lig Beyaz   Without Club   \n",
       "65486          Coimbra       Portugal       Liga Sabseg   Without Club   \n",
       "65487    Coritiba FC B         Brazil            Brazil    Coritiba FC   \n",
       "65488     Without Club            NaN               NaN   Adriese 1906   \n",
       "\n",
       "      country_dest       league_dest   transfer_fee        date  \n",
       "83         Georgia           Georgia  free transfer  2021-01-01  \n",
       "84            Peru   Liga 1 Clausura  free transfer  2021-01-01  \n",
       "85        Bulgaria        Vtora Liga  free transfer  2021-01-01  \n",
       "86         Belarus  Vysheyshaya Liga  free transfer  2021-01-01  \n",
       "87          Cyprus  Protathlima Cyta  free transfer  2021-01-01  \n",
       "...            ...               ...            ...         ...  \n",
       "65484          NaN               NaN              -  2021-12-31  \n",
       "65485          NaN               NaN              -  2021-12-31  \n",
       "65486          NaN               NaN              -  2021-12-31  \n",
       "65487       Brazil           Série B              -  2021-12-31  \n",
       "65488        Italy       Serie D - C              -  2021-12-31  \n",
       "\n",
       "[65406 rows x 8 columns]"
      ]
     },
     "execution_count": 35,
     "metadata": {},
     "output_type": "execute_result"
    }
   ],
   "source": [
    "df.iloc[83:,3:]"
   ]
  },
  {
   "cell_type": "markdown",
   "id": "a9bffa9a-589b-4248-b76f-00b357972cc3",
   "metadata": {},
   "source": [
    "# Tampilkan jumlah nilai dari semua attribute yang bernilai object (contoh : Jenis Kelamin, Agama). menggunakan fungsi value_counts()\n"
   ]
  },
  {
   "cell_type": "markdown",
   "id": "e7101d14-00dc-438c-a74b-984ef080ed53",
   "metadata": {},
   "source": [
    "- player_name"
   ]
  },
  {
   "cell_type": "code",
   "execution_count": 36,
   "id": "4c32ae89-86ae-4fe1-a3e2-be7602d9c5dc",
   "metadata": {},
   "outputs": [
    {
     "data": {
      "text/plain": [
       "Paulinho              14\n",
       "Vitinho               12\n",
       "Dudu                  12\n",
       "Ricardinho            11\n",
       "Rafinha               11\n",
       "                      ..\n",
       "Anouar El Mhassani     1\n",
       "Noble Okello           1\n",
       "Stefan Ciobanu         1\n",
       "Kamil Recicar          1\n",
       "Daniel Rodríguez       1\n",
       "Name: player_name, Length: 51872, dtype: int64"
      ]
     },
     "execution_count": 36,
     "metadata": {},
     "output_type": "execute_result"
    }
   ],
   "source": [
    "df['player_name'].value_counts()"
   ]
  },
  {
   "cell_type": "markdown",
   "id": "2cd9bb05-9841-455e-b50c-2bb87c5fd571",
   "metadata": {},
   "source": [
    "- position "
   ]
  },
  {
   "cell_type": "code",
   "execution_count": 37,
   "id": "5a3ac582-fc92-4210-8d23-3f2fa76259ce",
   "metadata": {},
   "outputs": [
    {
     "data": {
      "text/plain": [
       "Centre-Back           10047\n",
       "Centre-Forward         9952\n",
       "Central Midfield       6641\n",
       "Goalkeeper             6205\n",
       "Defensive Midfield     4926\n",
       "Right-Back             4467\n",
       "Left-Back              4443\n",
       "Attacking Midfield     4415\n",
       "Left Winger            4222\n",
       "Right Winger           4136\n",
       "midfield               1534\n",
       "Right Midfield         1121\n",
       "Left Midfield          1109\n",
       "defence                 851\n",
       "attack                  758\n",
       "Second Striker          657\n",
       "Sweeper                   2\n",
       "Name: position, dtype: int64"
      ]
     },
     "execution_count": 37,
     "metadata": {},
     "output_type": "execute_result"
    }
   ],
   "source": [
    "df['position'].value_counts()"
   ]
  },
  {
   "cell_type": "markdown",
   "id": "c1549fbc-099d-44e2-9154-86af8d2b1123",
   "metadata": {},
   "source": [
    "- team_origin"
   ]
  },
  {
   "cell_type": "code",
   "execution_count": 39,
   "id": "37fbe2a7-577c-4aee-8a4e-2cd0ad4e711e",
   "metadata": {},
   "outputs": [
    {
     "data": {
      "text/plain": [
       "Without Club       4925\n",
       "Unknown             253\n",
       "River Plate          63\n",
       "Atalanta BC          60\n",
       "Nacional             58\n",
       "                   ... \n",
       "Club Águilas          1\n",
       "CD Cuautla            1\n",
       "KF Korabi             1\n",
       "Portoviejo FC         1\n",
       "San Diego State       1\n",
       "Name: team_origin, Length: 7616, dtype: int64"
      ]
     },
     "execution_count": 39,
     "metadata": {},
     "output_type": "execute_result"
    }
   ],
   "source": [
    "df['team_origin'].value_counts()"
   ]
  },
  {
   "cell_type": "markdown",
   "id": "f9d47f05-8750-42ec-9ce6-0227745b2644",
   "metadata": {},
   "source": [
    "- country_origin"
   ]
  },
  {
   "cell_type": "code",
   "execution_count": 41,
   "id": "ea157b2e-ea05-4ed6-8538-998c411af7c2",
   "metadata": {},
   "outputs": [
    {
     "data": {
      "text/plain": [
       "Italy            7096\n",
       "Spain            2771\n",
       "Russia           2504\n",
       "Germany          2064\n",
       "Turkey           2032\n",
       "                 ... \n",
       "Benin               1\n",
       "Neukaledonien       1\n",
       "Réunion             1\n",
       "Pakistan            1\n",
       "East Timor          1\n",
       "Name: country_origin, Length: 169, dtype: int64"
      ]
     },
     "execution_count": 41,
     "metadata": {},
     "output_type": "execute_result"
    }
   ],
   "source": [
    "df['country_origin'].value_counts()"
   ]
  },
  {
   "cell_type": "markdown",
   "id": "fef409b0-d5bd-4206-97bd-bdd3bc4bcd7b",
   "metadata": {},
   "source": [
    "- league_origin"
   ]
  },
  {
   "cell_type": "code",
   "execution_count": 42,
   "id": "1fc52d1b-d0cf-433e-873e-a779f818fb5e",
   "metadata": {},
   "outputs": [
    {
     "data": {
      "text/plain": [
       "Premier League          1254\n",
       "Italy                   1131\n",
       "Spain                    835\n",
       "Liga 2                   811\n",
       "Premier Liga             793\n",
       "                        ... \n",
       "LL Niederrhein-Gr. 3       1\n",
       "Ireland                    1\n",
       "Moçambola                  1\n",
       "Neukaledonien              1\n",
       "San Marino                 1\n",
       "Name: league_origin, Length: 492, dtype: int64"
      ]
     },
     "execution_count": 42,
     "metadata": {},
     "output_type": "execute_result"
    }
   ],
   "source": [
    "df['league_origin'].value_counts()"
   ]
  },
  {
   "cell_type": "markdown",
   "id": "de78aeb7-22bf-49de-a4d4-afc22e96c17c",
   "metadata": {},
   "source": [
    "- team_dest"
   ]
  },
  {
   "cell_type": "code",
   "execution_count": 43,
   "id": "cf1da233-88b9-474c-89c6-4fcfae2dee1f",
   "metadata": {},
   "outputs": [
    {
     "data": {
      "text/plain": [
       "Without Club      8900\n",
       "Unknown            653\n",
       "Retired            133\n",
       "River Plate         53\n",
       "Career break        47\n",
       "                  ... \n",
       "SV Oss '20           1\n",
       "Ungheni              1\n",
       "Labędy Gliwice       1\n",
       "US Alençon           1\n",
       "San Feliciano        1\n",
       "Name: team_dest, Length: 8561, dtype: int64"
      ]
     },
     "execution_count": 43,
     "metadata": {},
     "output_type": "execute_result"
    }
   ],
   "source": [
    "df['team_dest'].value_counts()"
   ]
  },
  {
   "cell_type": "markdown",
   "id": "3b2630cc-dc99-4346-9b31-5319480e6ae4",
   "metadata": {},
   "source": [
    "- country_dest"
   ]
  },
  {
   "cell_type": "code",
   "execution_count": 44,
   "id": "8d940e50-a6de-4292-8456-ef2509c0e0da",
   "metadata": {},
   "outputs": [
    {
     "data": {
      "text/plain": [
       "Italy                6812\n",
       "Spain                2651\n",
       "Russia               2050\n",
       "Turkey               1975\n",
       "Germany              1842\n",
       "                     ... \n",
       "Guadeloupe              1\n",
       "St. Kitts & Nevis       1\n",
       "Vanuatu                 1\n",
       "Zanzibar                1\n",
       "East Timor              1\n",
       "Name: country_dest, Length: 176, dtype: int64"
      ]
     },
     "execution_count": 44,
     "metadata": {},
     "output_type": "execute_result"
    }
   ],
   "source": [
    "df['country_dest'].value_counts()"
   ]
  },
  {
   "cell_type": "markdown",
   "id": "65c2c5f1-e0d8-4a8f-bd0c-be562cce5cf3",
   "metadata": {},
   "source": [
    "- league_dest"
   ]
  },
  {
   "cell_type": "code",
   "execution_count": 45,
   "id": "516ccbad-5021-49de-b09f-e07c35f13bea",
   "metadata": {},
   "outputs": [
    {
     "data": {
      "text/plain": [
       "Italy                   1560\n",
       "Premier League           875\n",
       "Liga 2                   860\n",
       "League One               736\n",
       "Spain                    723\n",
       "                        ... \n",
       "Oberliga Niederrhein       1\n",
       "LL Hannover - Finals       1\n",
       "Rheinlandliga              1\n",
       "A-pojat SM-sarja           1\n",
       "Westfalenliga 1            1\n",
       "Name: league_dest, Length: 520, dtype: int64"
      ]
     },
     "execution_count": 45,
     "metadata": {},
     "output_type": "execute_result"
    }
   ],
   "source": [
    "df['league_dest'].value_counts()"
   ]
  },
  {
   "cell_type": "markdown",
   "id": "f51668e5-b52e-49f1-9182-923a04bdbfca",
   "metadata": {},
   "source": [
    "- transfer_fee"
   ]
  },
  {
   "cell_type": "code",
   "execution_count": 46,
   "id": "842fe351-8a9d-454b-8627-ee3accd4bcb3",
   "metadata": {},
   "outputs": [
    {
     "data": {
      "text/plain": [
       "free transfer    31145\n",
       "-                16173\n",
       "loan transfer     8480\n",
       "?                 7731\n",
       "€500Th.             74\n",
       "                 ...  \n",
       "€340Th.              1\n",
       "€2.55m               1\n",
       "€5.36m               1\n",
       "€840Th.              1\n",
       "€2Th.                1\n",
       "Name: transfer_fee, Length: 530, dtype: int64"
      ]
     },
     "execution_count": 46,
     "metadata": {},
     "output_type": "execute_result"
    }
   ],
   "source": [
    "df['transfer_fee'].value_counts()"
   ]
  },
  {
   "cell_type": "markdown",
   "id": "79bbfdfe-7ed1-46cb-960d-464652d97a93",
   "metadata": {},
   "source": [
    "- date"
   ]
  },
  {
   "cell_type": "code",
   "execution_count": 48,
   "id": "7874957e-0000-4761-9162-9679f73b9d42",
   "metadata": {},
   "outputs": [
    {
     "data": {
      "text/plain": [
       "2021-07-01    13305\n",
       "2021-01-01     4778\n",
       "2021-02-01     1860\n",
       "2021-08-31     1219\n",
       "2021-08-01     1081\n",
       "              ...  \n",
       "2021-12-25        5\n",
       "2021-05-22        5\n",
       "2021-11-28        3\n",
       "2021-11-14        3\n",
       "2021-06-27        2\n",
       "Name: date, Length: 365, dtype: int64"
      ]
     },
     "execution_count": 48,
     "metadata": {},
     "output_type": "execute_result"
    }
   ],
   "source": [
    "df['date'].value_counts()"
   ]
  },
  {
   "cell_type": "code",
   "execution_count": null,
   "id": "5cbfea61-182d-4427-a43b-22be98187022",
   "metadata": {},
   "outputs": [],
   "source": []
  }
 ],
 "metadata": {
  "kernelspec": {
   "display_name": "Rama-083",
   "language": "python",
   "name": "rama-083"
  },
  "language_info": {
   "codemirror_mode": {
    "name": "ipython",
    "version": 3
   },
   "file_extension": ".py",
   "mimetype": "text/x-python",
   "name": "python",
   "nbconvert_exporter": "python",
   "pygments_lexer": "ipython3",
   "version": "3.10.7"
  }
 },
 "nbformat": 4,
 "nbformat_minor": 5
}
